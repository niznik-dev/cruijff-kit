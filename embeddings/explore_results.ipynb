{
 "cells": [
  {
   "cell_type": "code",
   "execution_count": null,
   "metadata": {},
   "outputs": [],
   "source": [
    "import numpy as np\n",
    "import pandas as pd\n",
    "import matplotlib.pyplot as plt\n",
    "import seaborn as sns\n",
    "\n",
    "def pool_hidden_states(hidden_states: np.ndarray, pool: str = \"mean\") -> np.ndarray:\n",
    "    \"\"\"\n",
    "    Pool hidden states over the token dimension.\n",
    "\n",
    "    Parameters:\n",
    "        hidden_states (np.ndarray): Array of shape (L, N, T, H)\n",
    "        pool (str): Pooling method — \"mean\", \"first\", or \"last\"\n",
    "\n",
    "    Returns:\n",
    "        np.ndarray: Pooled embeddings of shape (L, N, H)\n",
    "    \"\"\"\n",
    "    if pool == \"mean\":\n",
    "        pooled = hidden_states.mean(axis=2)\n",
    "    elif pool == \"first\":\n",
    "        pooled = hidden_states[:, :, 0, :]\n",
    "    elif pool == \"last\":\n",
    "        pooled = hidden_states[:, :, -1, :]\n",
    "    else:\n",
    "        raise ValueError(f\"Unsupported pool type: {pool}\")\n",
    "\n",
    "    return pooled  # shape: (L, N, H)\n",
    "\n",
    "\n",
    "metadata = pd.read_csv(\"outputs/book_of_life_sample_1.csv\")\n",
    "data = np.load(\"outputs/book_of_life_hidden_states_sample1.npz\")\n",
    "hidden_states = data[\"hidden_states\"]  # shape: (L, N, T, H)\n",
    "pooled = pool_hidden_states(hidden_states, pool=\"mean\")  # shape: (L, N, H)\n",
    "pooled = np.nan_to_num(pooled, nan=0.0, posinf=0.0, neginf=0.0)\n",
    "\n",
    "print(\"Shape of pooled hidden states:\", pooled.shape)\n",
    "print(\"NaNs:\", np.isnan(pooled).any())\n",
    "print(\"Infs:\", np.isinf(pooled).any())\n",
    "print(\"Max value:\", np.max(pooled))\n",
    "print(\"Min value:\", np.min(pooled))"
   ]
  },
  {
   "cell_type": "code",
   "execution_count": null,
   "metadata": {},
   "outputs": [],
   "source": [
    "from sklearn.decomposition import PCA\n",
    "import numpy as np\n",
    "\n",
    "def run_pca(X: np.ndarray, n_components: int = 2) -> np.ndarray:\n",
    "    \"\"\"\n",
    "    Run PCA on a (N, H) matrix.\n",
    "\n",
    "    Parameters:\n",
    "        X (np.ndarray): Input data of shape (N, H)\n",
    "        n_components (int): Number of PCA components (default = 2)\n",
    "\n",
    "    Returns:\n",
    "        np.ndarray: Transformed data of shape (N, n_components)\n",
    "    \"\"\"\n",
    "    pca = PCA(n_components=n_components)\n",
    "    return pca.fit_transform(X)"
   ]
  },
  {
   "cell_type": "code",
   "execution_count": null,
   "metadata": {},
   "outputs": [],
   "source": [
    "from mpl_toolkits.axes_grid1 import make_axes_locatable\n",
    "\n",
    "def plot_pca_layers(pooled: np.ndarray, metadata: pd.DataFrame, color_by: str = \"age\"):\n",
    "    \"\"\"\n",
    "    Plot PCA snapshots for first, middle, and last layers in a clean horizontal grid.\n",
    "    \"\"\"\n",
    "    import matplotlib.cm as cm\n",
    "\n",
    "    L = pooled.shape[0]\n",
    "    idxs = [0, L // 2, L - 1]\n",
    "    titles = [\"First Layer\", \"Middle Layer\", \"Last Layer\"]\n",
    "\n",
    "    fig, axes = plt.subplots(1, 3, figsize=(16, 5), constrained_layout=True)\n",
    "\n",
    "    norm = plt.Normalize(metadata[color_by].min(), metadata[color_by].max())\n",
    "    cmap = cm.get_cmap(\"viridis\")\n",
    "\n",
    "    for ax, idx, title in zip(axes, idxs, titles):\n",
    "        X = pooled[idx]\n",
    "        X_pca = run_pca(X)\n",
    "        sc = ax.scatter(X_pca[:, 0], X_pca[:, 1], c=metadata[color_by], cmap=cmap, norm=norm, alpha=0.7)\n",
    "        ax.set_title(title)\n",
    "        ax.set_xlabel(\"PC1\")\n",
    "        ax.set_ylabel(\"PC2\")\n",
    "        ax.grid(True)\n",
    "\n",
    "    # Add single shared colorbar to the right\n",
    "    fig.colorbar(sc, ax=axes, location=\"right\", shrink=0.8, label=color_by)\n",
    "    plt.show()"
   ]
  },
  {
   "cell_type": "code",
   "execution_count": null,
   "metadata": {},
   "outputs": [],
   "source": [
    "plot_pca_layers(pooled, metadata, color_by=\"age\")  \n",
    "plot_pca_layers(pooled, metadata, color_by=\"income\") "
   ]
  }
 ],
 "metadata": {
  "kernelspec": {
   "display_name": "ttenv",
   "language": "python",
   "name": "python3"
  },
  "language_info": {
   "name": "python",
   "version": "3.12.7"
  }
 },
 "nbformat": 4,
 "nbformat_minor": 2
}
